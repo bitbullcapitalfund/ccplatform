{
 "cells": [
  {
   "cell_type": "code",
   "execution_count": 114,
   "metadata": {
    "collapsed": true
   },
   "outputs": [],
   "source": [
    "import pandas as pd\n",
    "import numpy as np\n",
    "import matplotlib.pyplot as plt\n",
    "import seaborn as sns\n",
    "from sklearn.linear_model import BayesianRidge, LinearRegression\n",
    "from sklearn.cluster import KMeans\n",
    "from sklearn.ensemble import ExtraTreesClassifier\n",
    "import datetime"
   ]
  },
  {
   "cell_type": "code",
   "execution_count": 115,
   "metadata": {
    "collapsed": true
   },
   "outputs": [],
   "source": [
    "def date_parser(string):\n",
    "    return datetime.datetime.fromtimestamp(int(string))"
   ]
  },
  {
   "cell_type": "code",
   "execution_count": 116,
   "metadata": {},
   "outputs": [
    {
     "name": "stdout",
     "output_type": "stream",
     "text": [
      "                 time  price    volume\n",
      "0 2014-12-01 11:03:56    300  0.010000\n",
      "1 2014-12-01 11:10:23    300  0.010000\n",
      "2 2014-12-01 11:54:08    370  0.010000\n",
      "3 2014-12-01 12:20:12    370  0.026556\n",
      "4 2014-12-02 10:59:26    377  0.010000\n",
      "\n",
      "[5 rows x 3 columns]\n",
      "              price        volume\n",
      "count  25000.000000  25000.000000\n",
      "mean     245.605850      0.761495\n",
      "std       29.355819      3.480678\n",
      "min      109.870000      0.000000\n",
      "25%      234.860000      0.010000\n",
      "50%      240.020000      0.103950\n",
      "75%      261.622500      0.616225\n",
      "max      398.000000    208.258900\n",
      "\n",
      "[8 rows x 2 columns]\n"
     ]
    }
   ],
   "source": [
    "data = pd.read_csv('../data/coinbaseUSD.csv',names=['time','price','volume'],nrows=25000,parse_dates=['time'],date_parser=date_parser)\n",
    "print data.head()\n",
    "print data.describe()"
   ]
  },
  {
   "cell_type": "markdown",
   "metadata": {},
   "source": [
    "Check the time difference between consecutive trades"
   ]
  },
  {
   "cell_type": "code",
   "execution_count": 117,
   "metadata": {},
   "outputs": [
    {
     "data": {
      "text/html": [
       "<div style=\"max-height:1000px;max-width:1500px;overflow:auto;\">\n",
       "<table border=\"1\" class=\"dataframe\">\n",
       "  <thead>\n",
       "    <tr style=\"text-align: right;\">\n",
       "      <th></th>\n",
       "      <th>0</th>\n",
       "    </tr>\n",
       "  </thead>\n",
       "  <tbody>\n",
       "    <tr>\n",
       "      <th>count</th>\n",
       "      <td> 24999.000000</td>\n",
       "    </tr>\n",
       "    <tr>\n",
       "      <th>mean</th>\n",
       "      <td>    71.588064</td>\n",
       "    </tr>\n",
       "    <tr>\n",
       "      <th>std</th>\n",
       "      <td>  1604.348635</td>\n",
       "    </tr>\n",
       "    <tr>\n",
       "      <th>min</th>\n",
       "      <td>     0.000000</td>\n",
       "    </tr>\n",
       "    <tr>\n",
       "      <th>25%</th>\n",
       "      <td>     0.000000</td>\n",
       "    </tr>\n",
       "    <tr>\n",
       "      <th>50%</th>\n",
       "      <td>     2.000000</td>\n",
       "    </tr>\n",
       "    <tr>\n",
       "      <th>75%</th>\n",
       "      <td>    15.000000</td>\n",
       "    </tr>\n",
       "    <tr>\n",
       "      <th>max</th>\n",
       "      <td> 86000.000000</td>\n",
       "    </tr>\n",
       "  </tbody>\n",
       "</table>\n",
       "<p>8 rows × 1 columns</p>\n",
       "</div>"
      ],
      "text/plain": [
       "                  0\n",
       "count  24999.000000\n",
       "mean      71.588064\n",
       "std     1604.348635\n",
       "min        0.000000\n",
       "25%        0.000000\n",
       "50%        2.000000\n",
       "75%       15.000000\n",
       "max    86000.000000\n",
       "\n",
       "[8 rows x 1 columns]"
      ]
     },
     "execution_count": 117,
     "metadata": {},
     "output_type": "execute_result"
    }
   ],
   "source": [
    "alltimes = list(data.time)\n",
    "timediffs = pd.DataFrame([(t - s).seconds for s, t in zip(alltimes, alltimes[1:])])\n",
    "timediffs.describe()"
   ]
  },
  {
   "cell_type": "code",
   "execution_count": 118,
   "metadata": {},
   "outputs": [],
   "source": [
    "plt.plot(data.price)\n",
    "plt.xlabel('time')\n",
    "plt.ylabel('price')\n",
    "plt.title('Price per trade')\n",
    "plt.show()"
   ]
  },
  {
   "cell_type": "code",
   "execution_count": 119,
   "metadata": {},
   "outputs": [],
   "source": [
    "plt.scatter(data.volume*100,data.price)\n",
    "plt.xlabel('trade volume')\n",
    "plt.ylabel('price')\n",
    "plt.title('Price per trade volume')\n",
    "plt.show()"
   ]
  },
  {
   "cell_type": "markdown",
   "metadata": {},
   "source": [
    "It seems that prices are highly affected by lagged prices over short period. we take lag till last 120 minutes of data (roughly 225 points) as regressor"
   ]
  },
  {
   "cell_type": "code",
   "execution_count": 120,
   "metadata": {
    "collapsed": true
   },
   "outputs": [],
   "source": [
    "LAG = 225\n",
    "for i in range(1,LAG+1):\n",
    "    var = 'price' + str(i)\n",
    "    data[var] = data.price.shift(i)\n",
    "data['target'] = data.price.shift(-1)    \n",
    "data = data.dropna()    \n",
    "data.target = data.target - data.price"
   ]
  },
  {
   "cell_type": "code",
   "execution_count": 121,
   "metadata": {},
   "outputs": [
    {
     "name": "stdout",
     "output_type": "stream",
     "text": [
      "(24774, 229)\n",
      "                   time   price  volume  price1  price2  price3  price4  \\\n",
      "225 2015-01-08 08:17:03  273.70    0.01  275.67  311.56  297.48  294.47   \n",
      "226 2015-01-08 08:17:27  302.61    0.01  273.70  275.67  311.56  297.48   \n",
      "227 2015-01-08 08:17:50  344.06    0.01  302.61  273.70  275.67  311.56   \n",
      "\n",
      "     price5  price6  price7  price8  price9  price10  price11  price12  \\\n",
      "225  328.21  301.01  320.94  330.98  308.63   306.42   346.20   305.78   \n",
      "226  294.47  328.21  301.01  320.94  330.98   308.63   306.42   346.20   \n",
      "227  297.48  294.47  328.21  301.01  320.94   330.98   308.63   306.42   \n",
      "\n",
      "     price13  price14  price15  price16  price17      \n",
      "225   291.96   348.43   326.34   272.87   317.23 ...  \n",
      "226   305.78   291.96   348.43   326.34   272.87 ...  \n",
      "227   346.20   305.78   291.96   348.43   326.34 ...  \n",
      "\n",
      "[3 rows x 229 columns]\n"
     ]
    }
   ],
   "source": [
    "print data.shape\n",
    "print data.head(3)"
   ]
  },
  {
   "cell_type": "code",
   "execution_count": 122,
   "metadata": {},
   "outputs": [
    {
     "name": "stdout",
     "output_type": "stream",
     "text": [
      "buy limit is USD 0.04\n",
      "sell limit is USD -0.02\n"
     ]
    }
   ],
   "source": [
    "plt.plot(data.target)\n",
    "plt.xlabel('time')\n",
    "plt.ylabel('price changes')\n",
    "plt.title('Price changes between consecutive trades')\n",
    "plt.show()\n",
    "\n",
    "data.target.describe()\n",
    "buy_limit = np.percentile(data.target, 75)\n",
    "sell_limit = np.percentile(data.target, 25)\n",
    "print \"buy limit is USD\", buy_limit\n",
    "print \"sell limit is USD\", sell_limit"
   ]
  },
  {
   "cell_type": "markdown",
   "metadata": {},
   "source": [
    "we will predict target variable (price change between consecutive trades) using lagged prices and traded volume"
   ]
  },
  {
   "cell_type": "code",
   "execution_count": 123,
   "metadata": {},
   "outputs": [],
   "source": [
    "train = data.iloc[:data.shape[0]*.75].reset_index(drop=True)\n",
    "test = data.iloc[data.shape[0]*.75:].reset_index(drop=True)\n",
    "del data"
   ]
  },
  {
   "cell_type": "code",
   "execution_count": 124,
   "metadata": {},
   "outputs": [],
   "source": [
    "regressors1 = [i for i in train.columns if i == 'price' or ('price' in i and int(i.replace('price','')) <= 225)]\n",
    "regressors2 = [i for i in train.columns if i == 'price' or ('price' in i and int(i.replace('price','')) <= 120)]\n",
    "regressors3 = [i for i in train.columns if i == 'price' or ('price' in i and int(i.replace('price','')) <= 60)]"
   ]
  },
  {
   "cell_type": "code",
   "execution_count": 125,
   "metadata": {},
   "outputs": [
    {
     "data": {
      "text/plain": [
       "LinearRegression(copy_X=True, fit_intercept=True, n_jobs=1, normalize=True)"
      ]
     },
     "execution_count": 125,
     "metadata": {},
     "output_type": "execute_result"
    }
   ],
   "source": [
    "clf = BayesianRidge(compute_score=True,normalize=True)\n",
    "clf.fit(train[regressors1],train.target)\n",
    "ols = LinearRegression(normalize=True)\n",
    "ols.fit(train[regressors1],train.target)"
   ]
  },
  {
   "cell_type": "code",
   "execution_count": 126,
   "metadata": {
    "collapsed": true
   },
   "outputs": [],
   "source": [
    "clf_pred1 = clf.predict(test[regressors1])\n",
    "ols_pred = ols.predict(test[regressors1])"
   ]
  },
  {
   "cell_type": "code",
   "execution_count": 127,
   "metadata": {},
   "outputs": [],
   "source": [
    "plt.title(\"Prediction\")\n",
    "plt.plot(clf_pred, color='lightgreen', label=\"Bayesian Ridge estimate\")\n",
    "plt.plot(ols_pred, color='navy', linestyle='--', label=\"OLS estimate\")\n",
    "plt.plot(test.target, label = 'ground truth')\n",
    "plt.xlabel(\"Cases\")\n",
    "plt.ylabel(\"Estimated target\")\n",
    "plt.legend(loc=\"best\", prop=dict(size=12))\n",
    "plt.show()"
   ]
  },
  {
   "cell_type": "code",
   "execution_count": 128,
   "metadata": {
    "collapsed": true
   },
   "outputs": [],
   "source": [
    "clf = BayesianRidge(compute_score=True,normalize=True)\n",
    "clf.fit(train[regressors1],train.target)\n",
    "train['pred1'] = clf.predict(train[regressors1])\n",
    "test['pred1'] = clf.predict(test[regressors1])\n",
    "\n",
    "clf = BayesianRidge(compute_score=True,normalize=True)\n",
    "clf.fit(train[regressors2],train.target)\n",
    "train['pred2'] = clf.predict(train[regressors2])\n",
    "test['pred2'] = clf.predict(test[regressors2])\n",
    "\n",
    "clf = BayesianRidge(compute_score=True,normalize=True)\n",
    "clf.fit(train[regressors3],train.target)\n",
    "train['pred3'] = clf.predict(train[regressors3])\n",
    "test['pred3'] = clf.predict(test[regressors3])"
   ]
  },
  {
   "cell_type": "code",
   "execution_count": 129,
   "metadata": {},
   "outputs": [
    {
     "data": {
      "text/html": [
       "<div style=\"max-height:1000px;max-width:1500px;overflow:auto;\">\n",
       "<table border=\"1\" class=\"dataframe\">\n",
       "  <thead>\n",
       "    <tr style=\"text-align: right;\">\n",
       "      <th></th>\n",
       "      <th>volume</th>\n",
       "      <th>price</th>\n",
       "      <th>pred1</th>\n",
       "      <th>pred2</th>\n",
       "      <th>pred3</th>\n",
       "      <th>target</th>\n",
       "    </tr>\n",
       "  </thead>\n",
       "  <tbody>\n",
       "    <tr>\n",
       "      <th>0</th>\n",
       "      <td> 0.01</td>\n",
       "      <td> 273.70</td>\n",
       "      <td> 27.691293</td>\n",
       "      <td> 32.089080</td>\n",
       "      <td> 31.499489</td>\n",
       "      <td> 28.91</td>\n",
       "    </tr>\n",
       "    <tr>\n",
       "      <th>1</th>\n",
       "      <td> 0.01</td>\n",
       "      <td> 302.61</td>\n",
       "      <td>  2.335279</td>\n",
       "      <td> -5.120105</td>\n",
       "      <td> -8.282582</td>\n",
       "      <td> 41.45</td>\n",
       "    </tr>\n",
       "    <tr>\n",
       "      <th>2</th>\n",
       "      <td> 0.01</td>\n",
       "      <td> 344.06</td>\n",
       "      <td>-30.652250</td>\n",
       "      <td>-28.977956</td>\n",
       "      <td>-26.765174</td>\n",
       "      <td>-20.30</td>\n",
       "    </tr>\n",
       "    <tr>\n",
       "      <th>3</th>\n",
       "      <td> 0.01</td>\n",
       "      <td> 323.76</td>\n",
       "      <td>-12.573488</td>\n",
       "      <td>-18.829805</td>\n",
       "      <td>-16.423889</td>\n",
       "      <td> 18.37</td>\n",
       "    </tr>\n",
       "    <tr>\n",
       "      <th>4</th>\n",
       "      <td> 0.01</td>\n",
       "      <td> 342.13</td>\n",
       "      <td>-15.947387</td>\n",
       "      <td>-22.363465</td>\n",
       "      <td>-28.202634</td>\n",
       "      <td>-19.88</td>\n",
       "    </tr>\n",
       "  </tbody>\n",
       "</table>\n",
       "<p>5 rows × 6 columns</p>\n",
       "</div>"
      ],
      "text/plain": [
       "   volume   price      pred1      pred2      pred3  target\n",
       "0    0.01  273.70  27.691293  32.089080  31.499489   28.91\n",
       "1    0.01  302.61   2.335279  -5.120105  -8.282582   41.45\n",
       "2    0.01  344.06 -30.652250 -28.977956 -26.765174  -20.30\n",
       "3    0.01  323.76 -12.573488 -18.829805 -16.423889   18.37\n",
       "4    0.01  342.13 -15.947387 -22.363465 -28.202634  -19.88\n",
       "\n",
       "[5 rows x 6 columns]"
      ]
     },
     "execution_count": 129,
     "metadata": {},
     "output_type": "execute_result"
    }
   ],
   "source": [
    "new_regressors = ['volume','price','pred1','pred2','pred3']\n",
    "train[new_regressors+['target']].head(5)"
   ]
  },
  {
   "cell_type": "markdown",
   "metadata": {},
   "source": [
    "We see for some periods the price difference predictions are quite accurate. Ensemble can boost performance in this case."
   ]
  },
  {
   "cell_type": "code",
   "execution_count": 130,
   "metadata": {
    "collapsed": true
   },
   "outputs": [],
   "source": [
    "clf = BayesianRidge(compute_score=True,normalize=True,fit_intercept=True)\n",
    "clf.fit(train[new_regressors],train.target)\n",
    "pred = clf.predict(test[new_regressors])"
   ]
  },
  {
   "cell_type": "code",
   "execution_count": 131,
   "metadata": {
    "collapsed": true
   },
   "outputs": [],
   "source": [
    "plt.title(\"Prediction\")\n",
    "plt.plot(pred, color='lightgreen', label=\"Bayesian Ridge estimate\")\n",
    "plt.plot(test.target, label = 'ground truth')\n",
    "plt.xlabel(\"Cases\")\n",
    "plt.ylabel(\"Estimated target\")\n",
    "plt.legend(loc=\"best\", prop=dict(size=12))\n",
    "plt.show()"
   ]
  },
  {
   "cell_type": "markdown",
   "metadata": {},
   "source": [
    "Lets formulate a basic trading strategy. When current position is <= 0 and price diff >= buy limit we buy. If current\n",
    "position is >= 0 and price diff <= sell limit we sell. Else we hold the position."
   ]
  },
  {
   "cell_type": "code",
   "execution_count": 132,
   "metadata": {
    "collapsed": true
   },
   "outputs": [],
   "source": [
    "def backtest(pred,actual_price,current_pos=0,cum_profit=0,current_balance=0):\n",
    "    profit = []\n",
    "    balance = []\n",
    "    for index, i in enumerate(pred):\n",
    "        if i >= buy_limit and current_pos <= 0:\n",
    "            current_pos = 1\n",
    "            buy_price = actual_price[index]\n",
    "            current_balance -= buy_price\n",
    "        if i <= sell_limit and current_pos == 1:\n",
    "            current_pos = 0\n",
    "            sell_price = actual_price[index] \n",
    "            current_balance += sell_price\n",
    "            cum_profit = current_balance\n",
    "        profit.append(cum_profit)\n",
    "        balance.append(current_balance)\n",
    "    return balance, profit    "
   ]
  },
  {
   "cell_type": "code",
   "execution_count": 133,
   "metadata": {},
   "outputs": [],
   "source": [
    "balance, profit = backtest(pred,list(test.price))"
   ]
  },
  {
   "cell_type": "code",
   "execution_count": 134,
   "metadata": {},
   "outputs": [],
   "source": [
    "plt.title(\"Backtesting\")\n",
    "plt.plot(profit, color='blue', label=\"Profit\")\n",
    "plt.plot(test.price, label = 'Bitcoin price')\n",
    "plt.xlabel(\"Time\")\n",
    "plt.ylabel(\"Price in dollar\")\n",
    "plt.legend(loc=\"best\", prop=dict(size=12))\n",
    "plt.show()"
   ]
  },
  {
   "cell_type": "code",
   "execution_count": 135,
   "metadata": {},
   "outputs": [
    {
     "name": "stdout",
     "output_type": "stream",
     "text": [
      "max profit at 2015-01-30 03:13:03 with profit of USD  47.79 and bitcoin price USD  236.57\n",
      "profit at 2015-01-29 09:21:27 with profit of USD  0 and bitcoin price USD  238.08\n",
      "profit at 2015-01-30 04:11:02 with profit of USD  46.96 and bitcoin price USD  236.03\n"
     ]
    }
   ],
   "source": [
    "print \"max profit at\", test.time.iloc[profit.index(max(profit))], \"with profit of USD \", max(profit), \"and bitcoin price USD \",test.price.iloc[profit.index(max(profit))] \n",
    "print \"profit at\", test.time.iloc[0], \"with profit of USD \", profit[0], \"and bitcoin price USD \",test.price.iloc[0] \n",
    "print \"profit at\", test.time.iloc[-1], \"with profit of USD \", profit[-1], \"and bitcoin price USD \",test.price.iloc[-1] "
   ]
  },
  {
   "cell_type": "markdown",
   "metadata": {},
   "source": [
    "We see some profit over time. Net profit is 47$ (20%) for a single bitcoin trading over the trading period of one day. "
   ]
  },
  {
   "cell_type": "code",
   "execution_count": null,
   "metadata": {
    "collapsed": true
   },
   "outputs": [],
   "source": []
  }
 ],
 "metadata": {
  "kernelspec": {
   "display_name": "Python 2",
   "language": "python",
   "name": "python2"
  },
  "language_info": {
   "codemirror_mode": {
    "name": "ipython",
    "version": 2
   },
   "file_extension": ".py",
   "mimetype": "text/x-python",
   "name": "python",
   "nbconvert_exporter": "python",
   "pygments_lexer": "ipython2",
   "version": "2.7.6"
  }
 },
 "nbformat": 4,
 "nbformat_minor": 2
}
