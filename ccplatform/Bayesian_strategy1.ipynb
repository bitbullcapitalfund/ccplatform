{
 "cells": [
  {
   "cell_type": "code",
   "execution_count": 1,
   "metadata": {
    "collapsed": true
   },
   "outputs": [],
   "source": [
    "import pandas as pd\n",
    "import numpy as np\n",
    "import matplotlib.pyplot as plt\n",
    "import seaborn as sns\n",
    "from sklearn.linear_model import BayesianRidge, LinearRegression\n",
    "from sklearn.cluster import KMeans\n",
    "from sklearn.ensemble import ExtraTreesRegressor\n",
    "import datetime"
   ]
  },
  {
   "cell_type": "code",
   "execution_count": 2,
   "metadata": {
    "collapsed": true
   },
   "outputs": [],
   "source": [
    "def date_parser(string):\n",
    "    return datetime.datetime.fromtimestamp(int(string))"
   ]
  },
  {
   "cell_type": "code",
   "execution_count": 3,
   "metadata": {},
   "outputs": [
    {
     "name": "stdout",
     "output_type": "stream",
     "text": [
      "                 time  price    volume\n",
      "0 2014-12-01 11:03:56    300  0.010000\n",
      "1 2014-12-01 11:10:23    300  0.010000\n",
      "2 2014-12-01 11:54:08    370  0.010000\n",
      "3 2014-12-01 12:20:12    370  0.026556\n",
      "4 2014-12-02 10:59:26    377  0.010000\n",
      "\n",
      "[5 rows x 3 columns]\n"
     ]
    },
    {
     "name": "stderr",
     "output_type": "stream",
     "text": [
      "/usr/lib/python2.7/dist-packages/pandas/compat/scipy.py:68: VisibleDeprecationWarning: using a non-integer number instead of an integer will result in an error in the future\n",
      "  score = values[idx]\n"
     ]
    },
    {
     "name": "stdout",
     "output_type": "stream",
     "text": [
      "                 price        volume\n",
      "count  18192817.000000  1.819282e+07\n",
      "mean        873.839092  4.123018e-01\n",
      "std         762.220701  1.482153e+00\n",
      "min           0.060000  1.000000e-08\n",
      "25%         347.920000  1.028369e-02\n",
      "50%         538.990000  5.000000e-02\n",
      "75%        1142.120000  2.500010e-01\n",
      "max        2999.990000  8.979820e+02\n",
      "\n",
      "[8 rows x 2 columns]\n"
     ]
    }
   ],
   "source": [
    "data = pd.read_csv('../../../data/coinbaseUSD.csv',names=['time','price','volume'],parse_dates=['time'],date_parser=date_parser)\n",
    "print data.head()\n",
    "print data.describe()"
   ]
  },
  {
   "cell_type": "markdown",
   "metadata": {},
   "source": [
    "Some data cleaning is required as the prices seem very volatilte at the beginning of the period. Also, the data shows trade prices. We need to group by the trade second to get price in each second."
   ]
  },
  {
   "cell_type": "markdown",
   "metadata": {},
   "source": [
    "Check the time difference between consecutive trades"
   ]
  },
  {
   "cell_type": "markdown",
   "metadata": {},
   "source": [
    "plt.plot(data.price)\n",
    "plt.xlabel('time')\n",
    "plt.ylabel('price')\n",
    "plt.title('Price per trade')\n",
    "plt.show()"
   ]
  },
  {
   "cell_type": "code",
   "execution_count": null,
   "metadata": {},
   "outputs": [
    {
     "name": "stdout",
     "output_type": "stream",
     "text": [
      "(18187817, 3)\n"
     ]
    }
   ],
   "source": [
    "data = data.iloc[5000:]\n",
    "print data.shape\n",
    "data = data.drop_duplicates()\n",
    "print data.shape"
   ]
  },
  {
   "cell_type": "code",
   "execution_count": null,
   "metadata": {},
   "outputs": [],
   "source": [
    "print data.drop_duplicates().shape\n",
    "print len(set(list(data.time)))"
   ]
  },
  {
   "cell_type": "markdown",
   "metadata": {},
   "source": [
    "It seems that prices are highly affected by lagged prices over short period. we take lag till last 120 minutes of data (roughly 225 points) as regressor"
   ]
  },
  {
   "cell_type": "code",
   "execution_count": null,
   "metadata": {
    "collapsed": true
   },
   "outputs": [],
   "source": [
    "LAG = 225\n",
    "for i in range(1,LAG+1):\n",
    "    var = 'price' + str(i)\n",
    "    data[var] = data.price.shift(i)\n",
    "data['target'] = data.price.shift(-1)    \n",
    "data = data.dropna()    \n",
    "data.target = data.target - data.price"
   ]
  },
  {
   "cell_type": "code",
   "execution_count": null,
   "metadata": {},
   "outputs": [],
   "source": [
    "print data.shape\n",
    "print data.head(3)"
   ]
  },
  {
   "cell_type": "code",
   "execution_count": null,
   "metadata": {},
   "outputs": [],
   "source": [
    "plt.plot(data.target)\n",
    "plt.xlabel('time')\n",
    "plt.ylabel('price changes')\n",
    "plt.title('Price changes between consecutive trades')\n",
    "plt.show()\n",
    "\n",
    "print data.target.describe()\n",
    "buy_limit = np.percentile(data.target, 75)\n",
    "sell_limit = np.percentile(data.target, 25)\n",
    "print \"buy limit is USD\", buy_limit\n",
    "print \"sell limit is USD\", sell_limit"
   ]
  },
  {
   "cell_type": "markdown",
   "metadata": {},
   "source": [
    "we will predict target variable (price change between consecutive trades) using lagged prices and traded volume"
   ]
  },
  {
   "cell_type": "code",
   "execution_count": null,
   "metadata": {},
   "outputs": [],
   "source": [
    "train = data.iloc[:data.shape[0]*.75].reset_index(drop=True)\n",
    "test = data.iloc[data.shape[0]*.75:].reset_index(drop=True)\n",
    "del data"
   ]
  },
  {
   "cell_type": "code",
   "execution_count": null,
   "metadata": {
    "collapsed": true
   },
   "outputs": [],
   "source": [
    "regressors1 = [i for i in train.columns if i == 'price' or ('price' in i and int(i.replace('price','')) <= 225)]\n",
    "regressors2 = [i for i in train.columns if i == 'price' or ('price' in i and int(i.replace('price','')) <= 120)]\n",
    "regressors3 = [i for i in train.columns if i == 'price' or ('price' in i and int(i.replace('price','')) <= 60)]"
   ]
  },
  {
   "cell_type": "code",
   "execution_count": null,
   "metadata": {},
   "outputs": [],
   "source": [
    "clf = BayesianRidge(compute_score=True,normalize=True)\n",
    "clf.fit(train[regressors1],train.target)\n",
    "ols = LinearRegression(normalize=True)\n",
    "ols.fit(train[regressors1],train.target)"
   ]
  },
  {
   "cell_type": "code",
   "execution_count": null,
   "metadata": {},
   "outputs": [],
   "source": [
    "model1 = ExtraTreesRegressor(random_state=123,n_estimators=100,criterion='mse',verbose=1)\n",
    "model1.fit(train[regressors1],train.target)"
   ]
  },
  {
   "cell_type": "code",
   "execution_count": null,
   "metadata": {},
   "outputs": [],
   "source": [
    "#clf_pred = clf.predict(test[regressors1])\n",
    "#ols_pred = ols.predict(test[regressors1])\n",
    "#et_pred = model1.predict(test[regressors1])"
   ]
  },
  {
   "cell_type": "code",
   "execution_count": null,
   "metadata": {},
   "outputs": [],
   "source": [
    "plt.title(\"Prediction\")\n",
    "plt.plot(clf_pred, color='lightgreen', label=\"Bayesian Ridge estimate\")\n",
    "#plt.plot(ols_pred, color='navy', linestyle='--', label=\"OLS estimate\")\n",
    "plt.plot(et_pred, color='navy', linestyle='--', label=\"ET estimate\")\n",
    "plt.plot(test.target, label = 'ground truth')\n",
    "plt.xlabel(\"Cases\")\n",
    "plt.ylabel(\"Estimated target\")\n",
    "plt.legend(loc=\"best\", prop=dict(size=12))\n",
    "plt.show()"
   ]
  },
  {
   "cell_type": "code",
   "execution_count": null,
   "metadata": {
    "collapsed": true
   },
   "outputs": [],
   "source": [
    "clf = BayesianRidge(compute_score=True,normalize=True)\n",
    "clf.fit(train[regressors1],train.target)\n",
    "train['pred1'] = clf.predict(train[regressors1])\n",
    "test['pred1'] = clf.predict(test[regressors1])\n",
    "\n",
    "clf = BayesianRidge(compute_score=True,normalize=True)\n",
    "clf.fit(train[regressors2],train.target)\n",
    "train['pred2'] = clf.predict(train[regressors2])\n",
    "test['pred2'] = clf.predict(test[regressors2])\n",
    "\n",
    "clf = BayesianRidge(compute_score=True,normalize=True)\n",
    "clf.fit(train[regressors3],train.target)\n",
    "train['pred3'] = clf.predict(train[regressors3])\n",
    "test['pred3'] = clf.predict(test[regressors3])"
   ]
  },
  {
   "cell_type": "code",
   "execution_count": null,
   "metadata": {},
   "outputs": [],
   "source": [
    "new_regressors = ['volume','price','pred1','pred2','pred3']\n",
    "train[new_regressors+['target']].tail(5)"
   ]
  },
  {
   "cell_type": "markdown",
   "metadata": {},
   "source": [
    "We see for some periods the price difference predictions are quite accurate. Ensemble can boost performance in this case."
   ]
  },
  {
   "cell_type": "code",
   "execution_count": null,
   "metadata": {
    "collapsed": true
   },
   "outputs": [],
   "source": [
    "clf = BayesianRidge(compute_score=True,normalize=True,fit_intercept=True)\n",
    "clf.fit(train[new_regressors],train.target)\n",
    "pred = clf.predict(test[new_regressors])"
   ]
  },
  {
   "cell_type": "code",
   "execution_count": null,
   "metadata": {
    "collapsed": true
   },
   "outputs": [],
   "source": [
    "plt.title(\"Prediction\")\n",
    "plt.plot(pred, color='lightgreen', label=\"Bayesian Ridge estimate\")\n",
    "plt.plot(test.target, label = 'ground truth')\n",
    "plt.xlabel(\"Cases\")\n",
    "plt.ylabel(\"Estimated target\")\n",
    "plt.legend(loc=\"best\", prop=dict(size=12))\n",
    "plt.show()"
   ]
  },
  {
   "cell_type": "markdown",
   "metadata": {},
   "source": [
    "Lets formulate a basic trading strategy. When current position is <= 0 and price diff >= buy limit we buy. If current\n",
    "position is >= 0 and price diff <= sell limit we sell. Else we hold the position."
   ]
  },
  {
   "cell_type": "code",
   "execution_count": null,
   "metadata": {
    "collapsed": true
   },
   "outputs": [],
   "source": [
    "def backtest(pred,actual_price,current_pos=0,cum_profit=0,current_balance=0):\n",
    "    profit = []\n",
    "    balance = []\n",
    "    buy_count = 0\n",
    "    sell_count = 0\n",
    "    buys = []\n",
    "    num_profit = 0\n",
    "    num_loss = 0\n",
    "    returns = []\n",
    "    for index, i in enumerate(pred):\n",
    "        if i >= buy_limit and current_pos <= 0:\n",
    "            current_pos = 1\n",
    "            buy_price = actual_price[index]\n",
    "            buys.append(buy_price)\n",
    "            current_balance -= buy_price\n",
    "            buy_count += 1\n",
    "        if i <= sell_limit and current_pos == 1:\n",
    "            current_pos = 0\n",
    "            sell_price = actual_price[index] \n",
    "            current_balance += sell_price\n",
    "            cum_profit = current_balance\n",
    "            sell_count += 1\n",
    "            if sell_price > buy_price:\n",
    "                num_profit += 1\n",
    "            else:\n",
    "                num_loss += 1\n",
    "            returns.append((sell_price-buy_price)*1.0/buy_price)\n",
    "        profit.append(cum_profit)\n",
    "        balance.append(current_balance)\n",
    "   \n",
    "    print buy_count, sell_count\n",
    "    print \"max buy price in USD \", max(buys)\n",
    "    print num_profit, num_loss\n",
    "    print pd.DataFrame(returns).describe()\n",
    "    \n",
    "    return balance, profit    "
   ]
  },
  {
   "cell_type": "code",
   "execution_count": null,
   "metadata": {},
   "outputs": [],
   "source": [
    "balance, profit = backtest(pred,list(test.price))"
   ]
  },
  {
   "cell_type": "code",
   "execution_count": null,
   "metadata": {
    "collapsed": true
   },
   "outputs": [],
   "source": [
    "plt.title(\"Backtesting\")\n",
    "plt.plot(profit, color='blue', label=\"Profit\")\n",
    "plt.plot(test.price, label = 'Bitcoin price')\n",
    "plt.xlabel(\"Time\")\n",
    "plt.ylabel(\"Price in dollar\")\n",
    "plt.legend(loc=\"best\", prop=dict(size=12))\n",
    "plt.show()"
   ]
  },
  {
   "cell_type": "code",
   "execution_count": null,
   "metadata": {},
   "outputs": [],
   "source": [
    "print \"max profit at\", test.time.iloc[profit.index(max(profit))], \"with profit of USD \", max(profit), \"and bitcoin price USD \",test.price.iloc[profit.index(max(profit))] \n",
    "print \"profit at\", test.time.iloc[0], \"with profit of USD \", profit[0], \"and bitcoin price USD \",test.price.iloc[0] \n",
    "print \"profit at\", test.time.iloc[-1], \"with profit of USD \", profit[-1], \"and bitcoin price USD \",test.price.iloc[-1] "
   ]
  },
  {
   "cell_type": "markdown",
   "metadata": {},
   "source": [
    "We see some profit over time. Net profit is 47$ (20%) for a single bitcoin trading over the trading period of one day. "
   ]
  },
  {
   "cell_type": "code",
   "execution_count": null,
   "metadata": {
    "collapsed": true
   },
   "outputs": [],
   "source": []
  }
 ],
 "metadata": {
  "kernelspec": {
   "display_name": "Python 2",
   "language": "python",
   "name": "python2"
  },
  "language_info": {
   "codemirror_mode": {
    "name": "ipython",
    "version": 2
   },
   "file_extension": ".py",
   "mimetype": "text/x-python",
   "name": "python",
   "nbconvert_exporter": "python",
   "pygments_lexer": "ipython2",
   "version": "2.7.6"
  }
 },
 "nbformat": 4,
 "nbformat_minor": 2
}
