{
 "cells": [
  {
   "cell_type": "markdown",
   "metadata": {
    "deletable": true,
    "editable": true
   },
   "source": [
    "Modules dependencies"
   ]
  },
  {
   "cell_type": "code",
   "execution_count": 1,
   "metadata": {
    "collapsed": false,
    "deletable": true,
    "editable": true
   },
   "outputs": [],
   "source": [
    "import numpy as np\n",
    "import pandas as pd\n",
    "import tensorflow as tf\n",
    "import tensorflow.contrib.keras as k\n",
    "import matplotlib.pyplot as plt"
   ]
  },
  {
   "cell_type": "code",
   "execution_count": 2,
   "metadata": {
    "collapsed": false,
    "deletable": true,
    "editable": true
   },
   "outputs": [],
   "source": [
    "from sklearn.model_selection import train_test_split\n",
    "from sklearn.preprocessing import StandardScaler"
   ]
  },
  {
   "cell_type": "markdown",
   "metadata": {},
   "source": [
    "This is a custom Module where we have the class that predict"
   ]
  },
  {
   "cell_type": "code",
   "execution_count": 4,
   "metadata": {
    "collapsed": true
   },
   "outputs": [],
   "source": [
    "import predictors"
   ]
  },
  {
   "cell_type": "markdown",
   "metadata": {
    "deletable": true,
    "editable": true
   },
   "source": [
    "# Introduction"
   ]
  },
  {
   "cell_type": "markdown",
   "metadata": {
    "deletable": true,
    "editable": true
   },
   "source": [
    "Problem: Should i buy or sell?"
   ]
  },
  {
   "cell_type": "markdown",
   "metadata": {
    "deletable": true,
    "editable": true
   },
   "source": [
    "In this model we are predicting if we should buy or sell BTC. For this, we asume that the sequence of the last 30 minutes of closing price can determine the movement of the next 5 minutes. In order to learn this, we will aplly a Recurrent Neural Network (RNN) to this sequence. the input value is a sequences of 30 prices and the output value is the probability that the mean price of the next five minutes is greater than the mean price of the last 30 minutes. if this probability is greater than 50% then the order is to buy, if not we should sell. "
   ]
  },
  {
   "cell_type": "markdown",
   "metadata": {},
   "source": [
    "We are using RNN beacuse is great finding patterns in a sequences, Learning what to forget or to retain. "
   ]
  },
  {
   "cell_type": "markdown",
   "metadata": {
    "deletable": true,
    "editable": true
   },
   "source": [
    "# Data Step - [Sample,Time,Features]"
   ]
  },
  {
   "cell_type": "markdown",
   "metadata": {},
   "source": [
    "To model this type of sequence, we have to shape the data in a way that a row is a sequence of 30 prices."
   ]
  },
  {
   "cell_type": "code",
   "execution_count": 5,
   "metadata": {
    "collapsed": false,
    "deletable": true,
    "editable": true
   },
   "outputs": [],
   "source": [
    "#data1 = pd.read_csv('data/BTC-USD_2017-04-01_2017-07-21_15sec.csv')\n",
    "#data2 = pd.read_csv('data/BTC-USD_2016-06-01_2017-01-01_15sec.csv')\n",
    "#data3 = pd.read_csv('data/BTC-USD_2017-01-01_2017-04-01_15sec.csv')\n",
    "#data = pd.concat([data1,data2,data3],axis=0)\n",
    "#del data1,data2, data3\n",
    "\n",
    "data = pd.read_csv('BTC-USD_2015-01-14_2017-07-21_1min.csv')"
   ]
  },
  {
   "cell_type": "markdown",
   "metadata": {
    "deletable": true,
    "editable": true
   },
   "source": [
    "After reading the data, we need a tensor of shape [sample,windows,features] \n",
    "so for this first model the expected tensor is going to be [n_rows,30,1] "
   ]
  },
  {
   "cell_type": "code",
   "execution_count": 6,
   "metadata": {
    "collapsed": false,
    "deletable": true,
    "editable": true
   },
   "outputs": [],
   "source": [
    "data.sort_values(by=['date','time'],inplace=True)"
   ]
  },
  {
   "cell_type": "markdown",
   "metadata": {
    "deletable": true,
    "editable": true
   },
   "source": [
    "for now we are going to asume that the time interval of the data is 1 minute for all observations. so, in the next section we will build the right shape of the data"
   ]
  },
  {
   "cell_type": "code",
   "execution_count": 7,
   "metadata": {
    "collapsed": false,
    "deletable": true,
    "editable": true
   },
   "outputs": [],
   "source": [
    "trading_days = np.unique(data.date)"
   ]
  },
  {
   "cell_type": "markdown",
   "metadata": {
    "deletable": true,
    "editable": true
   },
   "source": [
    "For the normalization of the data, we are computing a ration  with fixed prices. the initial price of the sequences is going to be the base price."
   ]
  },
  {
   "cell_type": "code",
   "execution_count": 8,
   "metadata": {
    "collapsed": false,
    "deletable": true,
    "editable": true
   },
   "outputs": [],
   "source": [
    "def normalise_seq(time_series):\n",
    "    normalised_data = []\n",
    "    for time_serie in time_series:\n",
    "        p0 = time_serie[0]\n",
    "        \n",
    "        new_serie = [(pi/p0)-1 for pi in time_serie]\n",
    "\n",
    "        normalised_data.append(new_serie)\n",
    "    return np.array(normalised_data)"
   ]
  },
  {
   "cell_type": "markdown",
   "metadata": {
    "deletable": true,
    "editable": true
   },
   "source": [
    "As we have said early, X have to be 30 minutes and Y have to be the comparison bewteen the mean of 30 minutes of closing price and the mean of the next five minutes."
   ]
  },
  {
   "cell_type": "code",
   "execution_count": 9,
   "metadata": {
    "collapsed": true,
    "deletable": true,
    "editable": true
   },
   "outputs": [],
   "source": [
    "STEPS = 30\n",
    "FORWARD = 5"
   ]
  },
  {
   "cell_type": "code",
   "execution_count": null,
   "metadata": {
    "collapsed": false,
    "deletable": true,
    "editable": true
   },
   "outputs": [],
   "source": [
    "x_train = []\n",
    "p_train = []\n",
    "\n",
    "sequence = []\n",
    "#using day by day to extract the sequences\n",
    "for d in trading_days:\n",
    "    condition = data.date == d\n",
    "    daily = data.loc[condition,:]\n",
    "    daily = np.array(daily.drop(['date','time'],axis=1))\n",
    "    #Closing price\n",
    "    daily = daily[:,3:4]\n",
    "    #Building a sequences\n",
    "    for w in np.arange(daily.shape[0]-(STEPS+FORWARD)):        \n",
    "        sequence.append(daily[w:w+STEPS+FORWARD])"
   ]
  },
  {
   "cell_type": "code",
   "execution_count": null,
   "metadata": {
    "collapsed": false
   },
   "outputs": [],
   "source": [
    "sequence=normalise_seq(np.array(sequence)+1)"
   ]
  },
  {
   "cell_type": "code",
   "execution_count": null,
   "metadata": {
    "collapsed": false,
    "deletable": true,
    "editable": true
   },
   "outputs": [],
   "source": [
    "x_train = sequence[:,:-FORWARD,:]\n",
    "y_train = sequence[:,-FORWARD,:]\n",
    "# the comparison of the means\n",
    "p_train = 1*(np.mean(y_train,axis=1)[:,np.newaxis] > np.mean(x_train,axis=1))\n",
    "p_train = k.utils.to_categorical(p_train)\n",
    "\n",
    "p_train = np.array(p_train)\n",
    "x_train = np.array(x_train)"
   ]
  },
  {
   "cell_type": "markdown",
   "metadata": {
    "deletable": true,
    "editable": true
   },
   "source": [
    "The general probability that the mean of the last 30 minutes is lower that the mean of the next 5 minutes is n general 54%"
   ]
  },
  {
   "cell_type": "code",
   "execution_count": null,
   "metadata": {
    "collapsed": false,
    "deletable": true,
    "editable": true
   },
   "outputs": [],
   "source": [
    "np.mean(p_train,axis=0)"
   ]
  },
  {
   "cell_type": "markdown",
   "metadata": {},
   "source": [
    "We are only going to use the 60% of the sequences."
   ]
  },
  {
   "cell_type": "code",
   "execution_count": null,
   "metadata": {
    "collapsed": false,
    "deletable": true,
    "editable": true
   },
   "outputs": [],
   "source": [
    "np.random.seed(7614)\n",
    "x_train, x_test, p_train, p_test = train_test_split(x_train,p_train,test_size=0.4)"
   ]
  },
  {
   "cell_type": "markdown",
   "metadata": {
    "deletable": true,
    "editable": true
   },
   "source": [
    "# Training Step - Keras, Tensorflow, RNN"
   ]
  },
  {
   "cell_type": "markdown",
   "metadata": {
    "deletable": true,
    "editable": true
   },
   "source": [
    "Tensorflow is the backend for keras"
   ]
  },
  {
   "cell_type": "markdown",
   "metadata": {
    "deletable": true,
    "editable": true
   },
   "source": [
    "## Categorical Model"
   ]
  },
  {
   "cell_type": "code",
   "execution_count": null,
   "metadata": {
    "collapsed": false,
    "deletable": true,
    "editable": true
   },
   "outputs": [],
   "source": [
    "#Input, 3D tensor\n",
    "inputs = k.layers.Input([*x_train.shape[1:]])\n",
    "\n",
    "net = inputs\n",
    "\n",
    "# First Hidden layer, RNN with LSTM Cell.\n",
    "net = k.layers.LSTM(64,activation=\"elu\",recurrent_dropout=0.4,return_sequences=False)(net)\n",
    "net = k.layers.Dropout(0.1)(net)\n",
    "\n",
    "# Second Hidden layer, Fully conected network with Batch Normalization.\n",
    "net = k.layers.Dense(32,activation=None,use_bias=None)(net)\n",
    "net = k.layers.BatchNormalization()(net)\n",
    "net = k.layers.Activation('elu')(net)\n",
    "\n",
    "#Output layer, Fully conected with Softmax \n",
    "net = k.layers.Dense(2,activation=None,use_bias=None)(net)\n",
    "net = k.layers.BatchNormalization()(net)\n",
    "net = k.layers.Activation('softmax')(net)\n",
    "output = net"
   ]
  },
  {
   "cell_type": "code",
   "execution_count": null,
   "metadata": {
    "collapsed": true,
    "deletable": true,
    "editable": true
   },
   "outputs": [],
   "source": [
    "model = k.models.Model(inputs,output)"
   ]
  },
  {
   "cell_type": "code",
   "execution_count": null,
   "metadata": {
    "collapsed": false,
    "deletable": true,
    "editable": true
   },
   "outputs": [],
   "source": [
    "model.compile(\n",
    "    optimizer=k.optimizers.Adam(),\n",
    "    loss=k.losses.categorical_crossentropy,\n",
    "    metrics=[\"accuracy\"]\n",
    ")"
   ]
  },
  {
   "cell_type": "code",
   "execution_count": null,
   "metadata": {
    "collapsed": false,
    "deletable": true,
    "editable": true
   },
   "outputs": [],
   "source": [
    "model.fit(x_train,p_train,batch_size=512,epochs=5,shuffle=True,validation_split=0.25)"
   ]
  },
  {
   "cell_type": "code",
   "execution_count": null,
   "metadata": {
    "collapsed": false,
    "deletable": true,
    "editable": true
   },
   "outputs": [],
   "source": [
    "model.evaluate(x_test,p_test)"
   ]
  },
  {
   "cell_type": "code",
   "execution_count": null,
   "metadata": {
    "collapsed": false,
    "deletable": true,
    "editable": true
   },
   "outputs": [],
   "source": [
    "model.save(\"models/categorical_model_v00.h5\")"
   ]
  },
  {
   "cell_type": "markdown",
   "metadata": {
    "deletable": true,
    "editable": true
   },
   "source": [
    "# Prediction - Buy or Sell?"
   ]
  },
  {
   "cell_type": "markdown",
   "metadata": {},
   "source": [
    "For the prediction we use a Class that load the model and feed the input tensor and return the response Buy or Sell"
   ]
  },
  {
   "cell_type": "code",
   "execution_count": null,
   "metadata": {
    "collapsed": true
   },
   "outputs": [],
   "source": [
    "predictor = predictors.RnnPredictor()"
   ]
  },
  {
   "cell_type": "code",
   "execution_count": null,
   "metadata": {
    "collapsed": false,
    "deletable": true,
    "editable": true
   },
   "outputs": [],
   "source": [
    "day_test = data.loc[data.date == \"2017-07-20\"]"
   ]
  },
  {
   "cell_type": "code",
   "execution_count": null,
   "metadata": {
    "collapsed": false,
    "deletable": true,
    "editable": true
   },
   "outputs": [],
   "source": [
    "day_vector = np.array(day_test.drop([\"date\",\"time\"],axis=1))\n",
    "day_vector = day_vector[:,3:4]"
   ]
  },
  {
   "cell_type": "markdown",
   "metadata": {},
   "source": [
    "This is a backtesting of how the model should behave in a day trading  "
   ]
  },
  {
   "cell_type": "code",
   "execution_count": null,
   "metadata": {
    "collapsed": false
   },
   "outputs": [],
   "source": [
    "buy = []\n",
    "sell = []\n",
    "\n",
    "for p in day_vector:\n",
    "    p = p[0]\n",
    "    \n",
    "    predictor.recive(p)\n",
    "    buyorsell = predictor.publish()\n",
    "    \n",
    "    if buyorsell == \"BUY\":\n",
    "        buy.append(p)\n",
    "        sell.append(np.nan)\n",
    "    elif buyorsell == \"SELL\":\n",
    "        buy.append(np.nan)\n",
    "        sell.append(p)\n",
    "    else:\n",
    "        buy.append(np.nan)\n",
    "        sell.append(np.nan)    "
   ]
  },
  {
   "cell_type": "markdown",
   "metadata": {},
   "source": [
    "Green is Buy and Red is Sell"
   ]
  },
  {
   "cell_type": "code",
   "execution_count": null,
   "metadata": {
    "collapsed": false,
    "deletable": true,
    "editable": true
   },
   "outputs": [],
   "source": [
    "%matplotlib inline\n",
    "plt.plot(sell,\"r\")\n",
    "plt.plot(buy,\"g\")\n",
    "plt.show()"
   ]
  }
 ],
 "metadata": {
  "anaconda-cloud": {},
  "kernelspec": {
   "display_name": "Python 3",
   "language": "python",
   "name": "python3"
  },
  "language_info": {
   "codemirror_mode": {
    "name": "ipython",
    "version": 3
   },
   "file_extension": ".py",
   "mimetype": "text/x-python",
   "name": "python",
   "nbconvert_exporter": "python",
   "pygments_lexer": "ipython3",
   "version": "3.5.2"
  }
 },
 "nbformat": 4,
 "nbformat_minor": 1
}
